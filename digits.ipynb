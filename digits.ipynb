{
 "cells": [
  {
   "cell_type": "code",
   "execution_count": 60,
   "metadata": {},
   "outputs": [
    {
     "name": "stdout",
     "output_type": "stream",
     "text": [
      "1 1 1 1 1 \n",
      "2 2 2 2 2 \n",
      "3 3 3 3 3 \n",
      "4 4 4 4 4 \n",
      "5 5 5 5 5 \n",
      "\n",
      "1 2 3 4 5 \n",
      "1 2 3 4 5 \n",
      "1 2 3 4 5 \n",
      "1 2 3 4 5 \n",
      "1 2 3 4 5 \n",
      "\n",
      "1 2 3 4 5 \n",
      "6 7 8 9 10 \n",
      "11 12 13 14 15 \n",
      "16 17 18 19 20 \n",
      "21 22 23 24 25 \n"
     ]
    }
   ],
   "source": [
    "# note points\n",
    "n=int(input('enter how much row u want'))\n",
    "# reintilizing is happening or not\n",
    "dummy=1\n",
    "for row in range(1,n+1):\n",
    "    for st in range(n):\n",
    "        print(row,end=' ')\n",
    "    print()\n",
    "    dummy+=1\n",
    "print(  )\n",
    "# re-initializing is done and incrementation itteration wise\n",
    "for row in range(1,n+1):\n",
    "    dummy=1\n",
    "    for st in range(1,n+1):\n",
    "        print(dummy,end=' ')\n",
    "        dummy+=1\n",
    "    print()\n",
    "print(  )\n",
    "# re-initializing is not done and incrementation itteration wise\n",
    "dummy=1\n",
    "for row in range(1,n+1):\n",
    "    for st in range(1,n+1):\n",
    "        print(dummy,end=' ')\n",
    "        dummy+=1\n",
    "    print()\n"
   ]
  },
  {
   "cell_type": "code",
   "execution_count": 6,
   "metadata": {},
   "outputs": [
    {
     "name": "stdout",
     "output_type": "stream",
     "text": [
      "1 \n",
      "2 2 \n",
      "3 3 3 \n",
      "4 4 4 4 \n",
      "5 5 5 5 5 \n",
      "\n",
      "1 \n",
      "1 2 \n",
      "1 2 3 \n",
      "1 2 3 4 \n",
      "1 2 3 4 5 \n",
      "\n",
      "1 \n",
      "2 3 \n",
      "4 5 6 \n",
      "7 8 9 10 \n",
      "11 12 13 14 15 \n",
      "\n",
      "5 \n",
      "4 5 \n",
      "3 4 5 \n",
      "2 3 4 5 \n",
      "1 2 3 4 5 \n",
      "\n",
      "1 \n",
      "2 1 \n",
      "3 2 1 \n",
      "4 3 2 1 \n",
      "5 4 3 2 1 \n"
     ]
    }
   ],
   "source": [
    "# prob:-1\n",
    "n=int(input('enter the rows '))\n",
    "var=1\n",
    "for i in range(1,n+1):\n",
    "    for st in range(var):\n",
    "        print(i,end=' ')\n",
    "    print()\n",
    "    var+=1\n",
    "\n",
    "print()\n",
    "\n",
    "var=1\n",
    "for i in range(1,n+1):\n",
    "    dummy=1\n",
    "    for st in range(var):\n",
    "        print(dummy,end=' ')\n",
    "        dummy+=1\n",
    "    print()\n",
    "    var+=1\n",
    "\n",
    "print()\n",
    "\n",
    "var=1\n",
    "dummy=1\n",
    "for i in range(1,n+1):\n",
    "    for st in range(var):\n",
    "        print(dummy,end=' ')\n",
    "        dummy+=1\n",
    "    print()\n",
    "    var+=1\n",
    "\n",
    "print()\n",
    "\n",
    "var=1\n",
    "for row in range(1,n+1): #for i in range(n):\n",
    "    dummy=n+1-row        #dummy=n-i\n",
    "    for st in range(var):\n",
    "        print(dummy,end=' ')\n",
    "        dummy+=1\n",
    "    print()\n",
    "    var+=1\n",
    "\n",
    "print()\n",
    "\n",
    "var=1\n",
    "for i in range(1,n+1):\n",
    "    dummy=i\n",
    "    for st in range(var):\n",
    "        print(dummy,end=' ')\n",
    "        dummy-=1\n",
    "    print()\n",
    "    var+=1\n",
    "\n",
    "\n"
   ]
  },
  {
   "cell_type": "code",
   "execution_count": 8,
   "metadata": {},
   "outputs": [
    {
     "name": "stdout",
     "output_type": "stream",
     "text": [
      "1 1 1 1 1 \n",
      "2 2 2 2 \n",
      "3 3 3 \n",
      "4 4 \n",
      "5 \n",
      "\n",
      "1 2 3 4 5 \n",
      "1 2 3 4 \n",
      "1 2 3 \n",
      "1 2 \n",
      "1 \n",
      "\n",
      "1 2 3 4 5 \n",
      "6 7 8 9 \n",
      "10 11 12 \n",
      "13 14 \n",
      "15 \n",
      "\n",
      "5 4 3 2 1 \n",
      "5 4 3 2 \n",
      "5 4 3 \n",
      "5 4 \n",
      "5 \n"
     ]
    }
   ],
   "source": [
    "# prob:-2\n",
    "n=int(input('enter how much row u want'))\n",
    "stars=n\n",
    "for i in range(1,n+1):\n",
    "    for st in range(stars):\n",
    "        print(i,end=' ')\n",
    "    print()\n",
    "    stars-=1\n",
    "\n",
    "print()\n",
    "\n",
    "stars=n\n",
    "for i in range(1,n+1):\n",
    "    dummy=1\n",
    "    for st in range(stars):\n",
    "        print(dummy,end=' ')\n",
    "        dummy+=1\n",
    "    print()\n",
    "    stars-=1\n",
    "\n",
    "print()\n",
    "\n",
    "stars=n\n",
    "dummy=1\n",
    "for row in range(1,n+1):\n",
    "    for st in range(stars):\n",
    "        print(dummy,end=' ')\n",
    "        dummy+=1\n",
    "    print()\n",
    "    stars-=1\n",
    "\n",
    "print()\n",
    "\n",
    "stars=n\n",
    "for i in range(1,n+1):\n",
    "    dummy=n\n",
    "    for st in range(stars):\n",
    "        print(dummy,end=' ')\n",
    "        dummy-=1\n",
    "    print()\n",
    "    stars-=1\n"
   ]
  },
  {
   "cell_type": "code",
   "execution_count": 17,
   "metadata": {},
   "outputs": [
    {
     "name": "stdout",
     "output_type": "stream",
     "text": [
      "        1 \n",
      "      2 2 \n",
      "    3 3 3 \n",
      "  4 4 4 4 \n",
      "5 5 5 5 5 \n",
      "\n",
      "        1 \n",
      "      1 2 \n",
      "    1 2 3 \n",
      "  1 2 3 4 \n",
      "1 2 3 4 5 \n",
      "\n",
      "        1 \n",
      "      2 3 \n",
      "    4 5 6 \n",
      "  7 8 9 10 \n",
      "11 12 13 14 15 \n"
     ]
    }
   ],
   "source": [
    "# prob:-3\n",
    "n=int(input('enter  the rows'))\n",
    "spaces=n-1\n",
    "stars=1\n",
    "dummy=1\n",
    "for i in range(1,n+1):\n",
    "    for sp in range(spaces):\n",
    "        print(' ',end=' ')\n",
    "    for st in range(stars):\n",
    "        print(dummy,end=' ')\n",
    "    print()\n",
    "    dummy+=1\n",
    "    spaces-=1\n",
    "    stars+=1\n",
    "\n",
    "print()\n",
    "\n",
    "spaces=n-1\n",
    "stars=1\n",
    "for i in range(1,n+1):\n",
    "    dummy=1\n",
    "    for sp in range(spaces):\n",
    "        print(' ',end=' ')\n",
    "    for st in range(stars):\n",
    "        print(dummy,end=' ')\n",
    "        dummy+=1\n",
    "    print()\n",
    "    spaces-=1\n",
    "    stars+=1\n",
    "\n",
    "print()\n",
    "\n",
    "\n",
    "\n",
    "spaces=n-1\n",
    "stars=1\n",
    "dummy=1\n",
    "for i in range(1,n+1):\n",
    "    for sp in range(spaces):\n",
    "        print(' ',end=' ')\n",
    "    for st in range(stars):\n",
    "        print(dummy,end=' ')\n",
    "        dummy+=1\n",
    "       \n",
    "    print()\n",
    "    spaces-=1\n",
    "    stars+=1"
   ]
  },
  {
   "cell_type": "code",
   "execution_count": 7,
   "metadata": {},
   "outputs": [
    {
     "name": "stdout",
     "output_type": "stream",
     "text": [
      "1 1 1 1 1 \n",
      "  2 2 2 2 \n",
      "    3 3 3 \n",
      "      4 4 \n",
      "        5 \n",
      "\n",
      "1 2 3 4 5 \n",
      "  1 2 3 4 \n",
      "    1 2 3 \n",
      "      1 2 \n",
      "        1 \n",
      "\n",
      "1 2 3 4 5 \n",
      "  6 7 8 9 \n",
      "    10 11 12 \n",
      "      13 14 \n",
      "        15 \n",
      "\n",
      "1 2 3 4 5 \n",
      "  2 3 4 5 \n",
      "    3 4 5 \n",
      "      4 5 \n",
      "        5 \n"
     ]
    }
   ],
   "source": [
    "# prob:-4\n",
    "n=int(input('enter  the rows'))\n",
    "spaces=0\n",
    "dummy=n\n",
    "for i in range(1,n+1):\n",
    "    num=i\n",
    "    for sp in range(spaces):\n",
    "        print(' ',end=' ')\n",
    "    for st in range(dummy):\n",
    "        print(i,end=' ')\n",
    "        num+=1\n",
    "    print()\n",
    "    spaces+=1\n",
    "    dummy-=1\n",
    "\n",
    "print()\n",
    "\n",
    "spaces=0\n",
    "dummy=n\n",
    "for i in range(1,n+1):\n",
    "    num=1\n",
    "    for sp in range(spaces):\n",
    "        print(' ',end=' ')\n",
    "    for st in range(dummy):\n",
    "        print(num,end=' ')\n",
    "        num+=1\n",
    "    print()\n",
    "    spaces+=1\n",
    "    dummy-=1\n",
    "\n",
    "print()\n",
    "\n",
    "spaces=0\n",
    "stars=n\n",
    "dummy=1\n",
    "for i in range(1,n+1):\n",
    "    for sp in range(spaces):\n",
    "        print(' ',end=' ')\n",
    "    for st in range(stars):\n",
    "        print(dummy,end=' ')\n",
    "        dummy+=1\n",
    "    print()\n",
    "    spaces+=1\n",
    "    stars-=1\n",
    "\n",
    "\n",
    "print()\n",
    "\n",
    "\n",
    "spaces=0\n",
    "stars=n\n",
    "for i in range(1,n+1):\n",
    "    dummy=i\n",
    "    for sp in range(spaces):\n",
    "        print(' ',end=' ')\n",
    "    for st in range(stars):\n",
    "        print(dummy,end=' ')\n",
    "        dummy+=1\n",
    "    print()\n",
    "    spaces+=1\n",
    "    stars-=1\n",
    "    "
   ]
  },
  {
   "cell_type": "code",
   "execution_count": 4,
   "metadata": {},
   "outputs": [
    {
     "name": "stdout",
     "output_type": "stream",
     "text": [
      "        1 \n",
      "      2 2 2 \n",
      "    3 3 3 3 3 \n",
      "  4 4 4 4 4 4 4 \n",
      "5 5 5 5 5 5 5 5 5 \n"
     ]
    }
   ],
   "source": [
    "n=int(input('enter how much row u want'))\n",
    "stars=1\n",
    "spaces=n-1\n",
    "dummy=1\n",
    "for i in range(1, n+1):\n",
    "    for sp in range(spaces):\n",
    "        print(' ', end=' ')\n",
    "    for st in range(stars):\n",
    "        print(i, end=' ')\n",
    "    print()\n",
    "    stars+=2\n",
    "    spaces-=1"
   ]
  },
  {
   "cell_type": "code",
   "execution_count": 6,
   "metadata": {},
   "outputs": [
    {
     "name": "stdout",
     "output_type": "stream",
     "text": [
      "    1 \n",
      "  2 2 2 \n",
      "3 3 3 3 3 \n",
      "  2 2 2 \n",
      "    1 \n"
     ]
    }
   ],
   "source": [
    "n=int(input('enter how much row u want'))\n",
    "spaces=n//2\n",
    "stars=1\n",
    "\n",
    "for i in range(1,n+1):\n",
    "    d=stars//2+1\n",
    "    for j in range(spaces):\n",
    "        print(' ', end=' ')\n",
    "    for j in range(stars):\n",
    "        print(d, end=' ')\n",
    "    print()\n",
    "   \n",
    "    if i<n//2+1:\n",
    "        spaces-=1\n",
    "        stars+=2\n",
    "    else:\n",
    "        stars-=2\n",
    "        spaces+=1"
   ]
  },
  {
   "cell_type": "code",
   "execution_count": 5,
   "metadata": {},
   "outputs": [
    {
     "name": "stdout",
     "output_type": "stream",
     "text": [
      "        1 \n",
      "      2 1 2 \n",
      "    3 2 1 2 3 \n",
      "  4 3 2 1 2 3 4 \n",
      "5 4 3 2 1 2 3 4 5 \n"
     ]
    }
   ],
   "source": [
    "n=int(input('enter the row'))\n",
    "spaces=n-1\n",
    "stars=1\n",
    "for row in range(1,n+1):\n",
    "    var=row\n",
    "    for sp in range(1,spaces+1):\n",
    "        print(' ',end=' ')\n",
    "    for st in range(1,stars+1):\n",
    "        print(var,end=' ')\n",
    "        \n",
    "        if st<stars//2+1:\n",
    "            var-=1\n",
    "        else:\n",
    "            var+=1\n",
    "    print()\n",
    "    stars+=2\n",
    "    spaces-=1\n",
    "\n"
   ]
  },
  {
   "cell_type": "code",
   "execution_count": 7,
   "metadata": {},
   "outputs": [
    {
     "name": "stdout",
     "output_type": "stream",
     "text": [
      "        1 \n",
      "      1 1 1 \n",
      "    1 1 1 1 1 \n",
      "  1 1 1 1 1 1 1 \n",
      "1 1 1 1 1 1 1 1 1 \n"
     ]
    }
   ],
   "source": [
    "n=int(input('enter the row'))\n",
    "spaces=n-1\n",
    "stars=1\n",
    "for row in range(1,n+1):\n",
    "    var=1\n",
    "    for sp in range(1,spaces+1):\n",
    "        print(' ',end=' ')\n",
    "    for st in range(1,stars+1):\n",
    "        print(var,end=' ')\n",
    "        \n",
    "        if st<stars//2+1:\n",
    "            var+=1\n",
    "        else:\n",
    "            var-=1\n",
    "    print()\n",
    "    stars+=2\n",
    "    spaces-=1"
   ]
  },
  {
   "cell_type": "code",
   "execution_count": 53,
   "metadata": {},
   "outputs": [
    {
     "name": "stdout",
     "output_type": "stream",
     "text": [
      "        1 \n",
      "      1 2 3 \n",
      "    1 2 3 4 5 \n",
      "  1 2 3 4 5 6 7 \n",
      "1 2 3 4 5 6 7 8 9 \n"
     ]
    }
   ],
   "source": [
    "n=int(input('enter how much row u want'))\n",
    "stars=1\n",
    "spaces=n-1\n",
    "for i in range(1, n+1):\n",
    "    num=1\n",
    "    for sp in range(spaces):\n",
    "        print(' ', end=' ')\n",
    "    for st in range(stars):\n",
    "        print(num, end=' ')\n",
    "        num+=1\n",
    "    print()\n",
    "    stars+=2\n",
    "    spaces-=1"
   ]
  },
  {
   "cell_type": "code",
   "execution_count": 1,
   "metadata": {},
   "outputs": [
    {
     "name": "stdout",
     "output_type": "stream",
     "text": [
      "    1 \n",
      "  2 1 2 \n",
      "3 2 1 2 3 \n",
      "  2 1 2 \n",
      "    1 \n"
     ]
    }
   ],
   "source": [
    "n=int(input('enter how much row u want')) #5\n",
    "spaces=n//2  #2\n",
    "stars=1 #1\n",
    "for i in range(1,n+1): # (1,6)\n",
    "    d=stars//2+1 #1,2,3,2,1\n",
    "    for j in range(spaces): # j=2,j=1,j=0,j=1,j=2\n",
    "        print(' ', end=' ')\n",
    "    for j in range(1,stars+1): #(1,1+1),(1,3+1),(1,5+1),(1,3+1),(1,1+1)\n",
    "        print(d, end=' ') #(d=1), (d=2,1,2), (d=3,2,1,2,3),(d=2,1,2),(d=1)\n",
    "        if j<stars//2+1: # 1<3//2+1,\n",
    "            d-=1 # \n",
    "        else:\n",
    "            d+=1 #  \n",
    "    print()\n",
    "   \n",
    "    if i<n//2+1:\n",
    "        stars+=2\n",
    "        spaces-=1\n",
    "        \n",
    "    else:\n",
    "        \n",
    "        stars-=2\n",
    "        spaces+=1 #"
   ]
  },
  {
   "cell_type": "code",
   "execution_count": 11,
   "metadata": {},
   "outputs": [
    {
     "name": "stdout",
     "output_type": "stream",
     "text": [
      "    1 \n",
      "  2 4 2 \n",
      "3 2 1 2 3 \n",
      "  2 4 2 \n",
      "    1 \n"
     ]
    }
   ],
   "source": [
    "n=int(input('enter how much row u want'))\n",
    "spaces=n//2 \n",
    "stars=1\n",
    "for i in range(1,n+1):\n",
    "    d=stars//2+1 #d=1,2,3\n",
    "    for j in range(spaces): j#j=2,1,0\n",
    "        print(' ', end=' ')\n",
    "    for j in range(1,stars+1): #(1,1+1),(1,3+1),(1,5+1)\n",
    "        print(d, end=' ') #3,2,1,2,3\n",
    "        if i%2!=0:\n",
    "            if j<stars//2+1:\n",
    "                d-=1\n",
    "            else:\n",
    "                d+=1\n",
    "        else:\n",
    "            if j<stars//2+1: #j=1<3//2+1 ,2<3//2+1\n",
    "                d+=2\n",
    "            else:\n",
    "                d-=2\n",
    "    print()\n",
    "   \n",
    "    if i<n//2+1:\n",
    "        stars+=2\n",
    "        spaces-=1\n",
    "       \n",
    "    else:\n",
    "        \n",
    "        stars-=2\n",
    "        spaces+=1"
   ]
  },
  {
   "cell_type": "code",
   "execution_count": 8,
   "metadata": {},
   "outputs": [
    {
     "name": "stdout",
     "output_type": "stream",
     "text": [
      "1 \n",
      "  2 \n",
      "    3 \n",
      "      4 \n",
      "        5 \n",
      "      6 \n",
      "    7 \n",
      "  8 \n",
      "9 \n"
     ]
    }
   ],
   "source": [
    "# print greater than sign '>' in no's formate .\n",
    "n=int(input('enter the pattern rows'))\n",
    "stars=1\n",
    "spaces=0\n",
    "for i in range(1,n+1):\n",
    "    for sp in range(1,spaces+1):\n",
    "        print(' ',end=' ')\n",
    "    for st in range(1,stars+1):\n",
    "        print(i,end=' ')\n",
    "    print()\n",
    "    if i<n//2+1:\n",
    "        spaces+=1\n",
    "    else:\n",
    "        spaces-=1\n",
    "        "
   ]
  },
  {
   "cell_type": "code",
   "execution_count": 43,
   "metadata": {},
   "outputs": [
    {
     "name": "stdout",
     "output_type": "stream",
     "text": [
      "1 \n",
      "  3 \n",
      "    5 \n",
      "      7 \n",
      "        9 \n",
      "      8 \n",
      "    6 \n",
      "  4 \n",
      "2 \n"
     ]
    }
   ],
   "source": [
    "# print greater than sign '>' in no's formate .\n",
    "n=int(input('enter the pattern rows'))\n",
    "stars=1\n",
    "spaces=0\n",
    "dummy=1\n",
    "for i in range(1,n+1):\n",
    "    for sp in range(1,spaces+1):\n",
    "        print(' ',end=' ')\n",
    "    for st in range(1,stars+1):\n",
    "        print(dummy,end=' ')\n",
    "    print()\n",
    "    if i<n//2+1:\n",
    "        spaces+=1\n",
    "        dummy+=2\n",
    "    else:\n",
    "        spaces-=1\n",
    "        if i>n//2+1:\n",
    "            dummy-=2\n",
    "        else:\n",
    "            dummy-=1"
   ]
  },
  {
   "cell_type": "code",
   "execution_count": 9,
   "metadata": {},
   "outputs": [
    {
     "name": "stdout",
     "output_type": "stream",
     "text": [
      "[1, 3, 5, 7, 9, 8, 6, 4, 2]\n",
      "1 \n",
      "  3 \n",
      "    5 \n",
      "      7 \n",
      "        9 \n",
      "      8 \n",
      "    6 \n",
      "  4 \n",
      "2 \n"
     ]
    }
   ],
   "source": [
    "n=int(input('enter the pattern rows'))\n",
    "odd=[]\n",
    "even=[]\n",
    "for i in range(1,n+1):\n",
    "    if i%2==0:\n",
    "        even.append(i)\n",
    "    else:\n",
    "        odd.append(i)\n",
    "l=odd+even [ : : -1]\n",
    "print(l)\n",
    "stars=1\n",
    "spaces=0\n",
    "for i in range(1,n+1):\n",
    "    for sp in range(1,spaces+1):\n",
    "        print(' ',end=' ')\n",
    "    for st in range(1,stars+1):\n",
    "        print(l[i-1],end=' ')\n",
    "    print()\n",
    "    if i<n//2+1:\n",
    "        spaces+=1\n",
    "    else:\n",
    "        spaces-=1\n",
    "        "
   ]
  },
  {
   "cell_type": "code",
   "execution_count": 36,
   "metadata": {},
   "outputs": [
    {
     "name": "stdout",
     "output_type": "stream",
     "text": [
      "1 \n",
      "  3 \n",
      "    5 \n",
      "      7 \n",
      "        9 \n",
      "      2 \n",
      "    4 \n",
      "  6 \n",
      "8 \n"
     ]
    }
   ],
   "source": [
    "n=int(input('enter the pattern rows'))\n",
    "odd=[]\n",
    "even=[]\n",
    "for i in range(1,n+1):\n",
    "    if i%2==0:\n",
    "        even.append(i)\n",
    "    else:\n",
    "        odd.append(i)\n",
    "l=odd+even\n",
    "stars=1\n",
    "spaces=0\n",
    "for i in range(1,n+1):\n",
    "    for sp in range(1,spaces+1):\n",
    "        print(' ',end=' ')\n",
    "    for st in range(1,stars+1):\n",
    "        print(l[i-1],end=' ')\n",
    "    print()\n",
    "    if i<n//2+1:\n",
    "        spaces+=1\n",
    "    else:\n",
    "        spaces-=1\n",
    "        "
   ]
  },
  {
   "cell_type": "code",
   "execution_count": 14,
   "metadata": {},
   "outputs": [
    {
     "name": "stdout",
     "output_type": "stream",
     "text": [
      "[2, 3, 5, 8, 13, 21, 34, 55, 89]\n",
      "2 \n",
      "  3 \n",
      "    5 \n",
      "      8 \n",
      "        13 \n",
      "      21 \n",
      "    34 \n",
      "  55 \n",
      "89 \n"
     ]
    }
   ],
   "source": [
    "n=int(input('enter the pattern rows'))\n",
    "a=2\n",
    "b=3\n",
    "fibo=[a,b]\n",
    "for i in range(n-2):\n",
    "    c=a+b\n",
    "    a,b=b,c\n",
    "    fibo.append(c)\n",
    "print(fibo)\n",
    "stars=1\n",
    "spaces=0\n",
    "for i in range(1,n+1):\n",
    "    for sp in range(1,spaces+1):\n",
    "        print(' ',end=' ')\n",
    "    for st in range(1,stars+1):\n",
    "        print(fibo[i-1],end=' ')\n",
    "    print()\n",
    "    if i<n//2+1:\n",
    "        spaces+=1\n",
    "    else:\n",
    "        spaces-=1"
   ]
  },
  {
   "cell_type": "code",
   "execution_count": null,
   "metadata": {},
   "outputs": [
    {
     "name": "stdout",
     "output_type": "stream",
     "text": [
      "2 \n",
      "  5 \n",
      "    13 \n",
      "      34 \n",
      "        89 \n",
      "      55 \n",
      "    21 \n",
      "  8 \n",
      "3 \n"
     ]
    }
   ],
   "source": [
    "n=int(input('enter the pattern rows'))\n",
    "odd=[a:=2] #a=2 ==> [a:=2]\n",
    "even=[b:=3]\n",
    "fibo=[a,b]\n",
    "for i in range(1,n-2+1):\n",
    "    c=a+b\n",
    "    a,b=b,c\n",
    "    if i%2==0:\n",
    "        even.append(c)\n",
    "    else:\n",
    "        odd.append(c)\n",
    "fibo=odd+even[ : :-1]\n",
    "stars=1\n",
    "spaces=0\n",
    "for i in range(1,n+1):\n",
    "    for sp in range(1,spaces+1):\n",
    "        print(' ',end=' ')\n",
    "    for st in range(1,stars+1):\n",
    "        print(fibo[i-1],end=' ')\n",
    "    print()\n",
    "    if i<n//2+1:\n",
    "        spaces+=1\n",
    "    else:\n",
    "        spaces-=1"
   ]
  },
  {
   "cell_type": "code",
   "execution_count": 18,
   "metadata": {},
   "outputs": [
    {
     "name": "stdout",
     "output_type": "stream",
     "text": [
      "2 \n",
      "  3 \n",
      "    5 \n",
      "      7 \n",
      "        11 \n",
      "      13 \n",
      "    17 \n",
      "  19 \n",
      "23 \n"
     ]
    }
   ],
   "source": [
    "n=int(input('enter the pattern rows'))\n",
    "prime=[]\n",
    "count=0\n",
    "t=1\n",
    "while True:\n",
    "    if t>1:\n",
    "        for i in range(2,t//2+1):\n",
    "            if t%i==0:\n",
    "                break\n",
    "        else:\n",
    "            count+=1\n",
    "            prime.append(t)\n",
    "    if count==n:\n",
    "        break\n",
    "    t+=1\n",
    "stars=1\n",
    "spaces=0\n",
    "for i in range(1,n+1):\n",
    "    for sp in range(1,spaces+1):\n",
    "        print(' ',end=' ')\n",
    "    for st in range(1,stars+1):\n",
    "        print(prime[i-1],end=' ')\n",
    "    print()\n",
    "    if i<n//2+1:\n",
    "        spaces+=1\n",
    "    else:\n",
    "        spaces-=1"
   ]
  },
  {
   "cell_type": "code",
   "execution_count": 19,
   "metadata": {},
   "outputs": [
    {
     "name": "stdout",
     "output_type": "stream",
     "text": [
      "2 \n",
      "  5 \n",
      "    11 \n",
      "      17 \n",
      "        23 \n",
      "      19 \n",
      "    13 \n",
      "  7 \n",
      "3 \n"
     ]
    }
   ],
   "source": [
    "n=int(input('enter the pattern rows'))\n",
    "odd=[]\n",
    "even=[]\n",
    "prime=[]\n",
    "count=0\n",
    "t=1\n",
    "while True:\n",
    "    if t>1:\n",
    "        for i in range(2,t//2+1):\n",
    "            if t%i==0:\n",
    "                break\n",
    "        else:\n",
    "            count+=1\n",
    "            if count%2==0:\n",
    "                even.append(t)\n",
    "            else:\n",
    "                odd.append(t)\n",
    "    if count==n:\n",
    "        break\n",
    "    t+=1\n",
    "prime=odd+even[ : :-1]\n",
    "stars=1\n",
    "spaces=0\n",
    "for i in range(1,n+1):\n",
    "    for sp in range(1,spaces+1):\n",
    "        print(' ',end=' ')\n",
    "    for st in range(1,stars+1):\n",
    "        print(prime[i-1],end=' ')\n",
    "    print()\n",
    "    if i<n//2+1:\n",
    "        spaces+=1\n",
    "    else:\n",
    "        spaces-=1"
   ]
  },
  {
   "cell_type": "code",
   "execution_count": 17,
   "metadata": {},
   "outputs": [
    {
     "name": "stdout",
     "output_type": "stream",
     "text": [
      "          2 \n",
      "        3   3 \n",
      "      5       5 \n",
      "    7           7 \n",
      "  11               11 \n",
      "13                   13 \n",
      "  17               17 \n",
      "    19           19 \n",
      "      23       23 \n",
      "        29   29 \n",
      "          31 \n"
     ]
    }
   ],
   "source": [
    "n=int(input('enter the pattern rows'))\n",
    "prime=[]\n",
    "count=0\n",
    "t=1\n",
    "while True:\n",
    "    if t>1:\n",
    "        for i in range(2,t//2+1):\n",
    "            if t%i==0:\n",
    "                break\n",
    "        else:\n",
    "            count+=1\n",
    "            prime.append(t)\n",
    "    if count==n:\n",
    "        break\n",
    "    t+=1\n",
    "spaces=n//2\n",
    "stars=1\n",
    "for i in range(1,n+1):\n",
    "    for sp in range(1,spaces+1):\n",
    "        print(' ',end=' ')\n",
    "    for st in range(1,stars+1):\n",
    "        if st in (1,stars):\n",
    "            print(prime[i-1],end=' ')\n",
    "        else:\n",
    "            print(' ',end=' ')\n",
    "    print()\n",
    "    if i<n//2+1:\n",
    "        spaces-=1\n",
    "        stars+=2\n",
    "    else:\n",
    "        spaces+=1\n",
    "        stars-=2\n"
   ]
  },
  {
   "cell_type": "code",
   "execution_count": 34,
   "metadata": {},
   "outputs": [
    {
     "name": "stdout",
     "output_type": "stream",
     "text": [
      "1 2 3 4 5 \n",
      "10 9 8 7 6 \n",
      "11 12 13 14 15 \n",
      "20 19 18 17 16 \n",
      "21 22 23 24 25 \n"
     ]
    }
   ],
   "source": [
    "n=int(input())\n",
    "l=[]\n",
    "for i in range(1,n**2+1):\n",
    "    l.append(i)\n",
    "for i in range(n,n**2+1,2*n):\n",
    "    l[i:i+n:]=l[i:i+n:][::-1]\n",
    "dummy=1\n",
    "for i in range(1,n+1):\n",
    "    for st in range(1,n+1):\n",
    "        print(l[dummy-1],end=' ')\n",
    "        dummy+=1\n",
    "    print()"
   ]
  },
  {
   "cell_type": "code",
   "execution_count": 73,
   "metadata": {},
   "outputs": [
    {
     "name": "stdout",
     "output_type": "stream",
     "text": [
      "1 2 3 4 5 \n",
      "2 3 4 5 6 \n",
      "3 4 5 6 7 \n",
      "4 5 6 7 8 \n",
      "5 6 7 8 9 \n"
     ]
    }
   ],
   "source": [
    "n=5\n",
    "stars=n\n",
    "for i in range(1,n+1):\n",
    "    dummy=i\n",
    "    for st in range(1,stars+1):\n",
    "        if dummy >=2:o0\n",
    "    print()"
   ]
  },
  {
   "cell_type": "code",
   "execution_count": 9,
   "metadata": {},
   "outputs": [
    {
     "name": "stdout",
     "output_type": "stream",
     "text": [
      "1 \n",
      "2 3 \n",
      "4 5 6 \n",
      "7 8 9 10 \n",
      "11 12 13 14 15 \n"
     ]
    }
   ],
   "source": [
    "n = 5\n",
    "\n",
    "count = 1\n",
    "for i in range(1, n + 1):\n",
    "    for j in range(1, i + 1):\n",
    "        if j == 1:\n",
    "            print(f\"{count}\", end=\" \")\n",
    "        elif j == i:\n",
    "            print(f\"{count}\", end=\" \")\n",
    "        else:\n",
    "            print(f\"{count}\", end=\" \")\n",
    "        count += 1\n",
    "    print()\n"
   ]
  }
 ],
 "metadata": {
  "kernelspec": {
   "display_name": "Python 3",
   "language": "python",
   "name": "python3"
  },
  "language_info": {
   "codemirror_mode": {
    "name": "ipython",
    "version": 3
   },
   "file_extension": ".py",
   "mimetype": "text/x-python",
   "name": "python",
   "nbconvert_exporter": "python",
   "pygments_lexer": "ipython3",
   "version": "3.12.1"
  },
  "orig_nbformat": 4
 },
 "nbformat": 4,
 "nbformat_minor": 2
}
